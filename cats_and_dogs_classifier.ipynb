{
  "nbformat": 4,
  "nbformat_minor": 0,
  "metadata": {
    "colab": {
      "provenance": [],
      "collapsed_sections": [],
      "mount_file_id": "1anv6tG489P1t1b3WdoEo8TbURFZvQET_",
      "authorship_tag": "ABX9TyPR2ZWvFospKgt7AOyyFhhy"
    },
    "kernelspec": {
      "name": "python3",
      "display_name": "Python 3"
    },
    "language_info": {
      "name": "python"
    },
    "accelerator": "GPU"
  },
  "cells": [
    {
      "cell_type": "code",
      "execution_count": null,
      "metadata": {
        "colab": {
          "base_uri": "https://localhost:8080/"
        },
        "id": "ef3P8MhG08pa",
        "outputId": "559599d5-0e09-4c7b-90f4-82199f6f67d8"
      },
      "outputs": [
        {
          "output_type": "execute_result",
          "data": {
            "text/plain": [
              "<_io.BufferedReader name='/content/drive/MyDrive/transfer_learning/y_val.pickle'>"
            ]
          },
          "metadata": {},
          "execution_count": 2
        }
      ],
      "source": [
        "open(\"/content/drive/MyDrive/transfer_learning/X_test.pickle\", \"rb\")\n",
        "open(\"/content/drive/MyDrive/transfer_learning/y_test.pickle\", \"rb\")\n",
        "\n",
        "open(\"/content/drive/MyDrive/transfer_learning/X_train.pickle\", \"rb\")\n",
        "open(\"/content/drive/MyDrive/transfer_learning/y_train.pickle\", \"rb\")\n",
        "\n",
        "open(\"/content/drive/MyDrive/transfer_learning/X_val.pickle\", \"rb\")\n",
        "open(\"/content/drive/MyDrive/transfer_learning/y_val.pickle\", \"rb\")"
      ]
    },
    {
      "cell_type": "code",
      "source": [
        "import pickle"
      ],
      "metadata": {
        "id": "yHYFoJKY3fo-"
      },
      "execution_count": null,
      "outputs": []
    },
    {
      "cell_type": "code",
      "source": [
        "X_test = pickle.load(open(\"/content/drive/MyDrive/transfer_learning/X_test.pickle\", \"rb\"))\n",
        "y_test = pickle.load(open(\"/content/drive/MyDrive/transfer_learning/y_test.pickle\", \"rb\"))\n",
        "\n",
        "X_train = pickle.load(open(\"/content/drive/MyDrive/transfer_learning/X_train.pickle\", \"rb\"))\n",
        "y_train = pickle.load(open(\"/content/drive/MyDrive/transfer_learning/y_train.pickle\", \"rb\"))\n",
        "\n",
        "X_val = pickle.load(open(\"/content/drive/MyDrive/transfer_learning/X_val.pickle\", \"rb\"))\n",
        "y_val = pickle.load(open(\"/content/drive/MyDrive/transfer_learning/y_val.pickle\", \"rb\"))"
      ],
      "metadata": {
        "id": "cE54gNgE3yEc"
      },
      "execution_count": null,
      "outputs": []
    },
    {
      "cell_type": "code",
      "source": [
        "X_train[0]"
      ],
      "metadata": {
        "colab": {
          "base_uri": "https://localhost:8080/"
        },
        "id": "UVgKLf884lT5",
        "outputId": "5a91166f-cce7-4f92-e15a-c3a173c8d19c"
      },
      "execution_count": null,
      "outputs": [
        {
          "output_type": "execute_result",
          "data": {
            "text/plain": [
              "array([[[0.43347639, 0.48927039, 0.4806867 ],\n",
              "        [0.42918455, 0.48497854, 0.47639485],\n",
              "        [0.43347639, 0.48927039, 0.4806867 ],\n",
              "        ...,\n",
              "        [0.472103  , 0.24892704, 0.13304721],\n",
              "        [0.48927039, 0.2832618 , 0.15021459],\n",
              "        [0.5193133 , 0.27467811, 0.14592275]],\n",
              "\n",
              "       [[0.42918455, 0.48497854, 0.47639485],\n",
              "        [0.44206009, 0.49785408, 0.48927039],\n",
              "        [0.4248927 , 0.4806867 , 0.472103  ],\n",
              "        ...,\n",
              "        [0.53218884, 0.30901288, 0.24463519],\n",
              "        [0.60944206, 0.39914163, 0.30901288],\n",
              "        [0.51072961, 0.27896996, 0.1888412 ]],\n",
              "\n",
              "       [[0.43347639, 0.48927039, 0.4806867 ],\n",
              "        [0.43347639, 0.48927039, 0.4806867 ],\n",
              "        [0.43347639, 0.48927039, 0.4806867 ],\n",
              "        ...,\n",
              "        [0.44206009, 0.21030043, 0.14592275],\n",
              "        [0.53648069, 0.32188841, 0.23175966],\n",
              "        [0.49356223, 0.27467811, 0.1888412 ]],\n",
              "\n",
              "       ...,\n",
              "\n",
              "       [[0.2360515 , 0.59656652, 0.81974249],\n",
              "        [0.22317597, 0.58798283, 0.80257511],\n",
              "        [0.26180258, 0.62660944, 0.84120172],\n",
              "        ...,\n",
              "        [0.19742489, 0.45493562, 0.72532189],\n",
              "        [0.20600858, 0.45493562, 0.69527897],\n",
              "        [0.2832618 , 0.45064378, 0.70386266]],\n",
              "\n",
              "       [[0.19742489, 0.55793991, 0.78111588],\n",
              "        [0.21459227, 0.57939914, 0.79828326],\n",
              "        [0.27467811, 0.63948498, 0.85407725],\n",
              "        ...,\n",
              "        [0.17167382, 0.44635193, 0.73819742],\n",
              "        [0.17596567, 0.46781116, 0.7167382 ],\n",
              "        [0.20171674, 0.45493562, 0.72103004]],\n",
              "\n",
              "       [[0.20171674, 0.56223176, 0.8111588 ],\n",
              "        [0.22317597, 0.59227468, 0.81974249],\n",
              "        [0.26609442, 0.64377682, 0.84549356],\n",
              "        ...,\n",
              "        [0.13733906, 0.42060086, 0.72532189],\n",
              "        [0.15450644, 0.43776824, 0.73819742],\n",
              "        [0.16309013, 0.44206009, 0.73819742]]])"
            ]
          },
          "metadata": {},
          "execution_count": 5
        }
      ]
    },
    {
      "cell_type": "code",
      "source": [
        "import tensorflow as tf"
      ],
      "metadata": {
        "id": "8k95lfyX4w_W"
      },
      "execution_count": null,
      "outputs": []
    },
    {
      "cell_type": "code",
      "source": [
        "base_model = tf.keras.applications.mobilenet_v2.MobileNetV2(\n",
        "    include_top = False,\n",
        "    weights = \"imagenet\",\n",
        "    input_shape = (128,128,3),\n",
        "    pooling = \"max\"\n",
        ")"
      ],
      "metadata": {
        "colab": {
          "base_uri": "https://localhost:8080/"
        },
        "id": "jmdVILyE4zmm",
        "outputId": "3b84dd48-d52b-4632-c8d2-e83c4389080c"
      },
      "execution_count": null,
      "outputs": [
        {
          "output_type": "stream",
          "name": "stdout",
          "text": [
            "Downloading data from https://storage.googleapis.com/tensorflow/keras-applications/mobilenet_v2/mobilenet_v2_weights_tf_dim_ordering_tf_kernels_1.0_128_no_top.h5\n",
            "9412608/9406464 [==============================] - 0s 0us/step\n",
            "9420800/9406464 [==============================] - 0s 0us/step\n"
          ]
        }
      ]
    },
    {
      "cell_type": "code",
      "source": [
        "for layer in base_model.layers:\n",
        "  layer.trainable = False"
      ],
      "metadata": {
        "id": "hinaqpM47Nez"
      },
      "execution_count": null,
      "outputs": []
    },
    {
      "cell_type": "code",
      "source": [
        "x = tf.keras.layers.Flatten()(base_model.output)\n",
        "x = tf.keras.layers.Dense(1024, activation = \"relu\")(x)\n",
        "x = tf.keras.layers.Dropout(0.5)(x)\n",
        "x = tf.keras.layers.Dense(1024, activation = \"relu\")(x)\n",
        "x = tf.keras.layers.Dropout(0.5)(x)\n",
        "x = tf.keras.layers.Dense(1024, activation = \"relu\")(x)\n",
        "x = tf.keras.layers.Dropout(0.5)(x)\n",
        "x = tf.keras.layers.Dense(1024, activation = \"relu\")(x)\n",
        "x = tf.keras.layers.Dropout(0.5)(x)\n",
        "x = tf.keras.layers.Dense(1024, activation = \"relu\")(x)\n",
        "x = tf.keras.layers.Dropout(0.5)(x)\n",
        "\n",
        "predictions = tf.keras.layers.Dense(1, activation = \"sigmoid\")(x)"
      ],
      "metadata": {
        "id": "xPfCuyjb74PH"
      },
      "execution_count": null,
      "outputs": []
    },
    {
      "cell_type": "code",
      "source": [
        "# for _ in range(5):\n",
        "#   x = tf.keras.layers.Dense(1024, activation = \"relu\")(x)\n",
        "#   x = tf.keras.layers.Dropout(0.5)(x)"
      ],
      "metadata": {
        "id": "fc9QSpdmAtVk"
      },
      "execution_count": null,
      "outputs": []
    },
    {
      "cell_type": "code",
      "source": [
        "head_model = tf.keras.Model(inputs=base_model.input, outputs=predictions)"
      ],
      "metadata": {
        "id": "q9P1FbmiDBp5"
      },
      "execution_count": null,
      "outputs": []
    },
    {
      "cell_type": "code",
      "source": [
        "head_model.compile(\n",
        "    optimizer = \"adam\",\n",
        "    loss = tf.keras.losses.BinaryCrossentropy(),\n",
        "    metrics=[\"accuracy\"]\n",
        ")"
      ],
      "metadata": {
        "id": "ivlAeSTKDQFS"
      },
      "execution_count": null,
      "outputs": []
    },
    {
      "cell_type": "code",
      "source": [
        "history = head_model.fit(\n",
        "    X_train,\n",
        "    y_train,\n",
        "    batch_size = 128,\n",
        "    epochs = 25,\n",
        "    validation_data=(X_val, y_val)\n",
        ")"
      ],
      "metadata": {
        "colab": {
          "base_uri": "https://localhost:8080/"
        },
        "id": "MJJMAfMXGlsg",
        "outputId": "4ad50e07-1e76-4847-89c4-355645f47819"
      },
      "execution_count": null,
      "outputs": [
        {
          "output_type": "stream",
          "name": "stdout",
          "text": [
            "Epoch 1/25\n",
            "13/13 [==============================] - 15s 180ms/step - loss: 1.3862 - accuracy: 0.6106 - val_loss: 0.2320 - val_accuracy: 0.9200\n",
            "Epoch 2/25\n",
            "13/13 [==============================] - 1s 70ms/step - loss: 0.3133 - accuracy: 0.8906 - val_loss: 0.1518 - val_accuracy: 0.9400\n",
            "Epoch 3/25\n",
            "13/13 [==============================] - 1s 67ms/step - loss: 0.2037 - accuracy: 0.9162 - val_loss: 0.1296 - val_accuracy: 0.9450\n",
            "Epoch 4/25\n",
            "13/13 [==============================] - 1s 73ms/step - loss: 0.1431 - accuracy: 0.9469 - val_loss: 0.1115 - val_accuracy: 0.9500\n",
            "Epoch 5/25\n",
            "13/13 [==============================] - 1s 74ms/step - loss: 0.1164 - accuracy: 0.9550 - val_loss: 0.1113 - val_accuracy: 0.9550\n",
            "Epoch 6/25\n",
            "13/13 [==============================] - 1s 74ms/step - loss: 0.0889 - accuracy: 0.9631 - val_loss: 0.1141 - val_accuracy: 0.9550\n",
            "Epoch 7/25\n",
            "13/13 [==============================] - 1s 65ms/step - loss: 0.0985 - accuracy: 0.9613 - val_loss: 0.1121 - val_accuracy: 0.9500\n",
            "Epoch 8/25\n",
            "13/13 [==============================] - 1s 65ms/step - loss: 0.0767 - accuracy: 0.9719 - val_loss: 0.1321 - val_accuracy: 0.9500\n",
            "Epoch 9/25\n",
            "13/13 [==============================] - 1s 65ms/step - loss: 0.0523 - accuracy: 0.9781 - val_loss: 0.1583 - val_accuracy: 0.9450\n",
            "Epoch 10/25\n",
            "13/13 [==============================] - 1s 65ms/step - loss: 0.0523 - accuracy: 0.9769 - val_loss: 0.1778 - val_accuracy: 0.9400\n",
            "Epoch 11/25\n",
            "13/13 [==============================] - 1s 65ms/step - loss: 0.0481 - accuracy: 0.9812 - val_loss: 0.1500 - val_accuracy: 0.9450\n",
            "Epoch 12/25\n",
            "13/13 [==============================] - 1s 65ms/step - loss: 0.0529 - accuracy: 0.9800 - val_loss: 0.1329 - val_accuracy: 0.9600\n",
            "Epoch 13/25\n",
            "13/13 [==============================] - 1s 69ms/step - loss: 0.0489 - accuracy: 0.9794 - val_loss: 0.1279 - val_accuracy: 0.9500\n",
            "Epoch 14/25\n",
            "13/13 [==============================] - 1s 66ms/step - loss: 0.0234 - accuracy: 0.9906 - val_loss: 0.1734 - val_accuracy: 0.9450\n",
            "Epoch 15/25\n",
            "13/13 [==============================] - 1s 66ms/step - loss: 0.0308 - accuracy: 0.9894 - val_loss: 0.1858 - val_accuracy: 0.9450\n",
            "Epoch 16/25\n",
            "13/13 [==============================] - 1s 69ms/step - loss: 0.0324 - accuracy: 0.9844 - val_loss: 0.2000 - val_accuracy: 0.9450\n",
            "Epoch 17/25\n",
            "13/13 [==============================] - 1s 70ms/step - loss: 0.0312 - accuracy: 0.9881 - val_loss: 0.1927 - val_accuracy: 0.9450\n",
            "Epoch 18/25\n",
            "13/13 [==============================] - 1s 71ms/step - loss: 0.0275 - accuracy: 0.9925 - val_loss: 0.2265 - val_accuracy: 0.9500\n",
            "Epoch 19/25\n",
            "13/13 [==============================] - 1s 74ms/step - loss: 0.0302 - accuracy: 0.9894 - val_loss: 0.1981 - val_accuracy: 0.9500\n",
            "Epoch 20/25\n",
            "13/13 [==============================] - 1s 65ms/step - loss: 0.0183 - accuracy: 0.9937 - val_loss: 0.2028 - val_accuracy: 0.9550\n",
            "Epoch 21/25\n",
            "13/13 [==============================] - 1s 65ms/step - loss: 0.0260 - accuracy: 0.9887 - val_loss: 0.2308 - val_accuracy: 0.9300\n",
            "Epoch 22/25\n",
            "13/13 [==============================] - 1s 69ms/step - loss: 0.0206 - accuracy: 0.9937 - val_loss: 0.3145 - val_accuracy: 0.9350\n",
            "Epoch 23/25\n",
            "13/13 [==============================] - 1s 65ms/step - loss: 0.0241 - accuracy: 0.9937 - val_loss: 0.2528 - val_accuracy: 0.9350\n",
            "Epoch 24/25\n",
            "13/13 [==============================] - 1s 65ms/step - loss: 0.0102 - accuracy: 0.9956 - val_loss: 0.2290 - val_accuracy: 0.9500\n",
            "Epoch 25/25\n",
            "13/13 [==============================] - 1s 75ms/step - loss: 0.0185 - accuracy: 0.9931 - val_loss: 0.2673 - val_accuracy: 0.9450\n"
          ]
        }
      ]
    },
    {
      "cell_type": "code",
      "source": [
        "head_model.metrics_names"
      ],
      "metadata": {
        "colab": {
          "base_uri": "https://localhost:8080/"
        },
        "id": "VX4ebx5YHEDc",
        "outputId": "4cb0a81b-7d2d-4c71-b8d2-ee9feaf15f24"
      },
      "execution_count": null,
      "outputs": [
        {
          "output_type": "execute_result",
          "data": {
            "text/plain": [
              "['loss', 'accuracy']"
            ]
          },
          "metadata": {},
          "execution_count": 14
        }
      ]
    },
    {
      "cell_type": "code",
      "source": [
        "head_model.evaluate(X_test, y_test)"
      ],
      "metadata": {
        "colab": {
          "base_uri": "https://localhost:8080/"
        },
        "id": "PZnPK7mXG2Ee",
        "outputId": "0aab4456-d441-4f8c-90c2-c7a011b21cf9"
      },
      "execution_count": null,
      "outputs": [
        {
          "output_type": "stream",
          "name": "stdout",
          "text": [
            "7/7 [==============================] - 1s 95ms/step - loss: 0.2121 - accuracy: 0.9400\n"
          ]
        },
        {
          "output_type": "execute_result",
          "data": {
            "text/plain": [
              "[0.21205104887485504, 0.9399999976158142]"
            ]
          },
          "metadata": {},
          "execution_count": 15
        }
      ]
    },
    {
      "cell_type": "code",
      "source": [
        "import matplotlib.pyplot as plt"
      ],
      "metadata": {
        "id": "9MnP6NjcZ1Wz"
      },
      "execution_count": null,
      "outputs": []
    },
    {
      "cell_type": "code",
      "source": [
        "plt.plot(history.history[\"loss\"], label=\"Train\")\n",
        "plt.plot(history.history[\"val_loss\"], label=\"Validation\")\n",
        "\n",
        "plt.xlabel(\"Epochs\")\n",
        "plt.ylabel(\"loss\")\n",
        "\n",
        "plt.legend()\n",
        "plt.show()"
      ],
      "metadata": {
        "colab": {
          "base_uri": "https://localhost:8080/",
          "height": 279
        },
        "id": "5MbpOPwIaaNM",
        "outputId": "bc2ea9e8-5f4d-464e-faf1-b8f31e4ab060"
      },
      "execution_count": null,
      "outputs": [
        {
          "output_type": "display_data",
          "data": {
            "text/plain": [
              "<Figure size 432x288 with 1 Axes>"
            ],
            "image/png": "[encoded data removed]"
          },
          "metadata": {
            "needs_background": "light"
          }
        }
      ]
    },
    {
      "cell_type": "code",
      "source": [
        "plt.plot(history.history[\"accuracy\"], label=\"Train\")\n",
        "plt.plot(history.history[\"val_accuracy\"], label=\"Validation\")\n",
        "\n",
        "plt.xlabel(\"Epochs\")\n",
        "plt.ylabel(\"Accuracy\")\n",
        "\n",
        "plt.legend()\n",
        "plt.show()"
      ],
      "metadata": {
        "colab": {
          "base_uri": "https://localhost:8080/",
          "height": 279
        },
        "id": "42icctmFb34V",
        "outputId": "92d144a7-1d49-4693-b532-e53733754d4a"
      },
      "execution_count": null,
      "outputs": [
        {
          "output_type": "display_data",
          "data": {
            "text/plain": [
              "<Figure size 432x288 with 1 Axes>"
            ],
            "image/png": "[encoded data removed]"
          },
          "metadata": {
            "needs_background": "light"
          }
        }
      ]
    },
    {
      "cell_type": "code",
      "source": [
        "with open(\"model.pickle\", \"wb\") as f:\n",
        "  pickle.dump(head_model, f)"
      ],
      "metadata": {
        "id": "tG-x2zsjccff"
      },
      "execution_count": null,
      "outputs": []
    },
    {
      "cell_type": "code",
      "source": [],
      "metadata": {
        "id": "pC7xSiL8dYQh"
      },
      "execution_count": null,
      "outputs": []
    }
  ]
}